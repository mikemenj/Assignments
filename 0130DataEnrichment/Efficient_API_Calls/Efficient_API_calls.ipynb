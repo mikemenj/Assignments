{
 "cells": [
  {
   "cell_type": "code",
   "execution_count": 1,
   "id": "35c48e69",
   "metadata": {},
   "outputs": [],
   "source": [
    "# Standard Imports\n",
    "import numpy as np\n",
    "import pandas as pd\n",
    "import matplotlib.pyplot as plt\n",
    "import seaborn as sns\n",
    "# Additional Imports\n",
    "import os, json, math, time\n",
    "from yelpapi import YelpAPI\n",
    "from tqdm.notebook import tqdm_notebook"
   ]
  },
  {
   "cell_type": "code",
   "execution_count": 2,
   "id": "c9410233",
   "metadata": {},
   "outputs": [
    {
     "name": "stdout",
     "output_type": "stream",
     "text": [
      "Requirement already satisfied: tqdm in c:\\users\\mmenj\\anaconda3\\envs\\dojo-env\\lib\\site-packages (4.64.1)\n",
      "Requirement already satisfied: colorama in c:\\users\\mmenj\\anaconda3\\envs\\dojo-env\\lib\\site-packages (from tqdm) (0.4.5)\n"
     ]
    }
   ],
   "source": [
    "# Install tmdbsimple (only need to run once)\n",
    "!pip install tqdm"
   ]
  },
  {
   "cell_type": "code",
   "execution_count": 14,
   "id": "62c8e9a9",
   "metadata": {},
   "outputs": [],
   "source": [
    "# Load API Credentials\n",
    "with open(r'/Users/mmenj/.secret/yelp_api.json') as f:   #use your path here!\n",
    "    login = json.load(f)\n",
    "# Instantiate YelpAPI Variable\n",
    "yelp_api = YelpAPI(login['API Key'], timeout_s=5.0)"
   ]
  },
  {
   "cell_type": "code",
   "execution_count": 15,
   "id": "2a9f3be9",
   "metadata": {},
   "outputs": [],
   "source": [
    "# set our API call parameters \n",
    "LOCATION = 'SAN ANTONIO,TX'\n",
    "TERM = 'Taco'"
   ]
  },
  {
   "cell_type": "code",
   "execution_count": 16,
   "id": "c977f94a",
   "metadata": {},
   "outputs": [
    {
     "data": {
      "text/plain": [
       "'Data/results_in_progress_SA_taco.json'"
      ]
     },
     "execution_count": 16,
     "metadata": {},
     "output_type": "execute_result"
    }
   ],
   "source": [
    "# Specifying JSON_FILE filename (can include a folder)\n",
    "# include the search terms in the filename\n",
    "JSON_FILE = \"Data/results_in_progress_NY_pizza.json\"\n",
    "JSON_FILE"
   ]
  },
  {
   "cell_type": "code",
   "execution_count": 19,
   "id": "83ab2208",
   "metadata": {},
   "outputs": [
    {
     "name": "stdout",
     "output_type": "stream",
     "text": [
      "- 0 previous results found.\n"
     ]
    }
   ],
   "source": [
    "## Load previous results and use len of results for offset\n",
    "with open(JSON_FILE,'r') as f:\n",
    "    previous_results = json.load(f)\n",
    "    \n",
    "## set offset based on previous results\n",
    "n_results = len(previous_results)\n",
    "print(f'- {n_results} previous results found.')"
   ]
  },
  {
   "cell_type": "code",
   "execution_count": 20,
   "id": "107cf162",
   "metadata": {},
   "outputs": [
    {
     "data": {
      "text/plain": [
       "dict_keys(['businesses', 'total', 'region'])"
      ]
     },
     "execution_count": 20,
     "metadata": {},
     "output_type": "execute_result"
    }
   ],
   "source": [
    "# use our yelp_api variable's search_query method to perform our API call\n",
    "results = yelp_api.search_query(location=LOCATION,\n",
    "                                term=TERM,\n",
    "                               offset=n_results)\n",
    "results.keys()"
   ]
  },
  {
   "cell_type": "code",
   "execution_count": 21,
   "id": "235f004d",
   "metadata": {},
   "outputs": [
    {
     "data": {
      "text/plain": [
       "3100"
      ]
     },
     "execution_count": 21,
     "metadata": {},
     "output_type": "execute_result"
    }
   ],
   "source": [
    "## How many results total?\n",
    "total_results = results['total']\n",
    "total_results"
   ]
  },
  {
   "cell_type": "code",
   "execution_count": 22,
   "id": "6e4f0bbf",
   "metadata": {},
   "outputs": [
    {
     "data": {
      "text/plain": [
       "20"
      ]
     },
     "execution_count": 22,
     "metadata": {},
     "output_type": "execute_result"
    }
   ],
   "source": [
    "## How many did we get the details for?\n",
    "results_per_page = len(results['businesses'])\n",
    "results_per_page"
   ]
  },
  {
   "cell_type": "code",
   "execution_count": 23,
   "id": "15c2f212",
   "metadata": {},
   "outputs": [
    {
     "data": {
      "text/plain": [
       "155"
      ]
     },
     "execution_count": 23,
     "metadata": {},
     "output_type": "execute_result"
    }
   ],
   "source": [
    "# Import additional packages for controlling our loop\n",
    "import time, math\n",
    "# Use math.ceil to round up for the total number of pages of results.\n",
    "n_pages = math.ceil((results['total']-n_results)/ results_per_page)\n",
    "n_pages"
   ]
  },
  {
   "cell_type": "code",
   "execution_count": 24,
   "id": "6a510658",
   "metadata": {},
   "outputs": [],
   "source": [
    "# join new results with old list with extend and save to file\n",
    "previous_results.extend(results['businesses'])  \n",
    "with open(JSON_FILE,'w') as f:\n",
    "     json.dump(previous_results,f)"
   ]
  },
  {
   "cell_type": "code",
   "execution_count": 25,
   "id": "50555f10",
   "metadata": {},
   "outputs": [
    {
     "name": "stdout",
     "output_type": "stream",
     "text": [
      "Requirement already satisfied: tqdm in c:\\users\\mmenj\\anaconda3\\envs\\dojo-env\\lib\\site-packages (4.64.1)\n",
      "Requirement already satisfied: colorama in c:\\users\\mmenj\\anaconda3\\envs\\dojo-env\\lib\\site-packages (from tqdm) (0.4.5)\n",
      "Note: you may need to restart the kernel to use updated packages.\n"
     ]
    }
   ],
   "source": [
    "pip install tqdm"
   ]
  },
  {
   "cell_type": "code",
   "execution_count": 26,
   "id": "7abb602d",
   "metadata": {},
   "outputs": [
    {
     "data": {
      "application/vnd.jupyter.widget-view+json": {
       "model_id": "a83f74cf70d5451ab09dd0bf3a38dd09",
       "version_major": 2,
       "version_minor": 0
      },
      "text/plain": [
       "  0%|          | 0/155 [00:00<?, ?it/s]"
      ]
     },
     "metadata": {},
     "output_type": "display_data"
    }
   ],
   "source": [
    "from tqdm.notebook import tqdm_notebook\n",
    "import time\n",
    "for i in tqdm_notebook(range(n_pages)):\n",
    "    # adds 200 ms pause\n",
    "    time.sleep(.2) "
   ]
  },
  {
   "cell_type": "code",
   "execution_count": 70,
   "id": "f36d678f",
   "metadata": {},
   "outputs": [],
   "source": [
    "def create_json_file(JSON_FILE,  delete_if_exists=False):\n",
    "    \n",
    "    ## Check if JSON_FILE exists\n",
    "    file_exists = os.path.isfile(JSON_FILE)\n",
    "\n",
    "    ## If it DOES exist:\n",
    "    if file_exists == True:\n",
    "\n",
    "        ## Check if user wants to delete if exists\n",
    "        if delete_if_exists==True:\n",
    "\n",
    "            print(f\"[!] {JSON_FILE} already exists. Deleting previous file...\")\n",
    "            ## delete file and confirm it no longer exits.\n",
    "            os.remove(JSON_FILE)\n",
    "            ## Recursive call to function after old file deleted\n",
    "            create_json_file(JSON_FILE,delete_if_exists=False)\n",
    "        else:\n",
    "            print(f\"[i] {JSON_FILE} already exists.\")            \n",
    "\n",
    "\n",
    "    ## If it does NOT exist:\n",
    "    else:\n",
    "\n",
    "        ## INFORM USER AND SAVE EMPTY LIST\n",
    "        print(f\"[i] {JSON_FILE} not found. Saving empty list to new file.\")\n",
    "\n",
    "        ## CREATE ANY NEEDED FOLDERS\n",
    "        # Get the Folder Name only\n",
    "        folder = os.path.dirname(JSON_FILE)\n",
    "\n",
    "        ## If JSON_FILE included a folder:\n",
    "        if len(folder)>0:\n",
    "            # create the folder\n",
    "            os.makedirs(folder,exist_ok=True)\n",
    "        ## Save empty list to start the json file\n",
    "        with open(JSON_FILE,'w') as f:\n",
    "            json.dump([],f)  \n",
    "\n"
   ]
  },
  {
   "cell_type": "code",
   "execution_count": 71,
   "id": "963e9d58",
   "metadata": {},
   "outputs": [
    {
     "name": "stdout",
     "output_type": "stream",
     "text": [
      "[i] Data/results_in_progress_SA_taco.json not found. Saving empty list to new file.\n",
      "- 0 previous results found.\n"
     ]
    },
    {
     "data": {
      "text/plain": [
       "155"
      ]
     },
     "execution_count": 71,
     "metadata": {},
     "output_type": "execute_result"
    }
   ],
   "source": [
    "## Create a new empty json file (exist the previous if it exists)\n",
    "create_json_file(JSON_FILE, delete_if_exists=True)\n",
    "## Load previous results and use len of results for offset\n",
    "with open(JSON_FILE,'r') as f:\n",
    "    previous_results = json.load(f)\n",
    "    \n",
    "## set offset based on previous results\n",
    "n_results = len(previous_results)\n",
    "print(f'- {n_results} previous results found.')\n",
    "# use our yelp_api variable's search_query method to perform our API call\n",
    "results = yelp_api.search_query(location=LOCATION,\n",
    "                                term=TERM,\n",
    "                               offset=n_results)\n",
    "## How many results total?\n",
    "total_results = results['total']\n",
    "## How many did we get the details for?\n",
    "results_per_page = len(results['businesses'])\n",
    "# Use math.ceil to round up for the total number of pages of results.\n",
    "n_pages = math.ceil((results['total']-n_results)/ results_per_page)\n",
    "n_pages"
   ]
  },
  {
   "cell_type": "code",
   "execution_count": 72,
   "id": "4989bca4",
   "metadata": {},
   "outputs": [
    {
     "data": {
      "application/vnd.jupyter.widget-view+json": {
       "model_id": "e38cd82d8bcc46f08ea4e54124f03f70",
       "version_major": 2,
       "version_minor": 0
      },
      "text/plain": [
       "  0%|          | 0/155 [00:00<?, ?it/s]"
      ]
     },
     "metadata": {},
     "output_type": "display_data"
    },
    {
     "name": "stdout",
     "output_type": "stream",
     "text": [
      "Exceeded 1000 api calls. Stopping loop.\n"
     ]
    }
   ],
   "source": [
    "for i in tqdm_notebook( range(1,n_pages+1)):\n",
    "    \n",
    "    ## Read in results in progress file and check the length\n",
    "    with open(JSON_FILE, 'r') as f:\n",
    "        previous_results = json.load(f)\n",
    "    ## save number of results for to use as offset\n",
    "    n_results = len(previous_results)\n",
    "    \n",
    "    if (n_results + results_per_page) > 1000:\n",
    "        print('Exceeded 1000 api calls. Stopping loop.')\n",
    "        break\n",
    "    \n",
    "    ## use n_results as the OFFSET \n",
    "    results = yelp_api.search_query(location=LOCATION,\n",
    "                                    term=TERM, \n",
    "                                    offset=n_results)\n",
    "    \n",
    "    \n",
    "    \n",
    "    ## append new results and save to file\n",
    "    previous_results.extend(results['businesses'])\n",
    "    \n",
    "    # display(previous_results)\n",
    "    with open(JSON_FILE,'w') as f:\n",
    "        json.dump(previous_results,f)\n",
    "    \n",
    "    time.sleep(.2)"
   ]
  },
  {
   "cell_type": "code",
   "execution_count": 73,
   "id": "436d997b",
   "metadata": {},
   "outputs": [
    {
     "data": {
      "text/html": [
       "<div>\n",
       "<style scoped>\n",
       "    .dataframe tbody tr th:only-of-type {\n",
       "        vertical-align: middle;\n",
       "    }\n",
       "\n",
       "    .dataframe tbody tr th {\n",
       "        vertical-align: top;\n",
       "    }\n",
       "\n",
       "    .dataframe thead th {\n",
       "        text-align: right;\n",
       "    }\n",
       "</style>\n",
       "<table border=\"1\" class=\"dataframe\">\n",
       "  <thead>\n",
       "    <tr style=\"text-align: right;\">\n",
       "      <th></th>\n",
       "      <th>id</th>\n",
       "      <th>alias</th>\n",
       "      <th>name</th>\n",
       "      <th>image_url</th>\n",
       "      <th>is_closed</th>\n",
       "      <th>url</th>\n",
       "      <th>review_count</th>\n",
       "      <th>categories</th>\n",
       "      <th>rating</th>\n",
       "      <th>coordinates</th>\n",
       "      <th>transactions</th>\n",
       "      <th>price</th>\n",
       "      <th>location</th>\n",
       "      <th>phone</th>\n",
       "      <th>display_phone</th>\n",
       "      <th>distance</th>\n",
       "    </tr>\n",
       "  </thead>\n",
       "  <tbody>\n",
       "    <tr>\n",
       "      <th>0</th>\n",
       "      <td>fD626-6wEZgfGP2YT3wSIA</td>\n",
       "      <td>taquitos-west-ave-san-antonio</td>\n",
       "      <td>Taquitos West Ave</td>\n",
       "      <td>https://s3-media2.fl.yelpcdn.com/bphoto/yWNgVE...</td>\n",
       "      <td>False</td>\n",
       "      <td>https://www.yelp.com/biz/taquitos-west-ave-san...</td>\n",
       "      <td>726</td>\n",
       "      <td>[{'alias': 'mexican', 'title': 'Mexican'}]</td>\n",
       "      <td>4.5</td>\n",
       "      <td>{'latitude': 29.48637, 'longitude': -98.52573}</td>\n",
       "      <td>[delivery]</td>\n",
       "      <td>$</td>\n",
       "      <td>{'address1': '2818 West Ave', 'address2': None...</td>\n",
       "      <td>+12105259888</td>\n",
       "      <td>(210) 525-9888</td>\n",
       "      <td>1118.116301</td>\n",
       "    </tr>\n",
       "    <tr>\n",
       "      <th>1</th>\n",
       "      <td>zulD0Ns_524wMuCAFlXxRA</td>\n",
       "      <td>tlahco-mexican-kitchen-san-antonio</td>\n",
       "      <td>Tlahco Mexican kitchen</td>\n",
       "      <td>https://s3-media4.fl.yelpcdn.com/bphoto/PAEto8...</td>\n",
       "      <td>False</td>\n",
       "      <td>https://www.yelp.com/biz/tlahco-mexican-kitche...</td>\n",
       "      <td>725</td>\n",
       "      <td>[{'alias': 'mexican', 'title': 'Mexican'}]</td>\n",
       "      <td>4.5</td>\n",
       "      <td>{'latitude': 29.5006724654481, 'longitude': -9...</td>\n",
       "      <td>[pickup, delivery]</td>\n",
       "      <td>$$</td>\n",
       "      <td>{'address1': '6702 San Pedro Ave', 'address2':...</td>\n",
       "      <td>+12104550135</td>\n",
       "      <td>(210) 455-0135</td>\n",
       "      <td>2931.033269</td>\n",
       "    </tr>\n",
       "    <tr>\n",
       "      <th>2</th>\n",
       "      <td>j2Ym1bd-tRyM-G5qXZ1yCw</td>\n",
       "      <td>petes-tako-house-san-antonio</td>\n",
       "      <td>Pete's Tako House</td>\n",
       "      <td>https://s3-media1.fl.yelpcdn.com/bphoto/EzV5R6...</td>\n",
       "      <td>False</td>\n",
       "      <td>https://www.yelp.com/biz/petes-tako-house-san-...</td>\n",
       "      <td>1288</td>\n",
       "      <td>[{'alias': 'breakfast_brunch', 'title': 'Break...</td>\n",
       "      <td>4.5</td>\n",
       "      <td>{'latitude': 29.4328575134277, 'longitude': -9...</td>\n",
       "      <td>[pickup, delivery]</td>\n",
       "      <td>$</td>\n",
       "      <td>{'address1': '502 Brooklyn Ave', 'address2': '...</td>\n",
       "      <td>+12102242911</td>\n",
       "      <td>(210) 224-2911</td>\n",
       "      <td>6094.469626</td>\n",
       "    </tr>\n",
       "    <tr>\n",
       "      <th>3</th>\n",
       "      <td>62rv8KQaduDNpTAOxSD1NA</td>\n",
       "      <td>tacos-and-chelas-mexican-kitchen-san-antonio</td>\n",
       "      <td>Tacos and Chelas Mexican Kitchen</td>\n",
       "      <td>https://s3-media1.fl.yelpcdn.com/bphoto/nDbKGh...</td>\n",
       "      <td>False</td>\n",
       "      <td>https://www.yelp.com/biz/tacos-and-chelas-mexi...</td>\n",
       "      <td>410</td>\n",
       "      <td>[{'alias': 'mexican', 'title': 'Mexican'}, {'a...</td>\n",
       "      <td>4.0</td>\n",
       "      <td>{'latitude': 29.435665, 'longitude': -98.686426}</td>\n",
       "      <td>[pickup, delivery]</td>\n",
       "      <td>$$</td>\n",
       "      <td>{'address1': '9902 Potranco Rd', 'address2': N...</td>\n",
       "      <td>+12103849145</td>\n",
       "      <td>(210) 384-9145</td>\n",
       "      <td>17101.082307</td>\n",
       "    </tr>\n",
       "    <tr>\n",
       "      <th>4</th>\n",
       "      <td>vsmZf-TpPtYhJP-OByDmKg</td>\n",
       "      <td>san-taco-san-antonio</td>\n",
       "      <td>San taco</td>\n",
       "      <td>https://s3-media1.fl.yelpcdn.com/bphoto/rxUZMz...</td>\n",
       "      <td>False</td>\n",
       "      <td>https://www.yelp.com/biz/san-taco-san-antonio?...</td>\n",
       "      <td>22</td>\n",
       "      <td>[{'alias': 'mexican', 'title': 'Mexican'}]</td>\n",
       "      <td>4.5</td>\n",
       "      <td>{'latitude': 29.44262, 'longitude': -98.504275}</td>\n",
       "      <td>[]</td>\n",
       "      <td>NaN</td>\n",
       "      <td>{'address1': '114 Fredericksburg Rd', 'address...</td>\n",
       "      <td>+12103143099</td>\n",
       "      <td>(210) 314-3099</td>\n",
       "      <td>4294.718174</td>\n",
       "    </tr>\n",
       "  </tbody>\n",
       "</table>\n",
       "</div>"
      ],
      "text/plain": [
       "                       id                                         alias  \\\n",
       "0  fD626-6wEZgfGP2YT3wSIA                 taquitos-west-ave-san-antonio   \n",
       "1  zulD0Ns_524wMuCAFlXxRA            tlahco-mexican-kitchen-san-antonio   \n",
       "2  j2Ym1bd-tRyM-G5qXZ1yCw                  petes-tako-house-san-antonio   \n",
       "3  62rv8KQaduDNpTAOxSD1NA  tacos-and-chelas-mexican-kitchen-san-antonio   \n",
       "4  vsmZf-TpPtYhJP-OByDmKg                          san-taco-san-antonio   \n",
       "\n",
       "                               name  \\\n",
       "0                 Taquitos West Ave   \n",
       "1            Tlahco Mexican kitchen   \n",
       "2                 Pete's Tako House   \n",
       "3  Tacos and Chelas Mexican Kitchen   \n",
       "4                          San taco   \n",
       "\n",
       "                                           image_url  is_closed  \\\n",
       "0  https://s3-media2.fl.yelpcdn.com/bphoto/yWNgVE...      False   \n",
       "1  https://s3-media4.fl.yelpcdn.com/bphoto/PAEto8...      False   \n",
       "2  https://s3-media1.fl.yelpcdn.com/bphoto/EzV5R6...      False   \n",
       "3  https://s3-media1.fl.yelpcdn.com/bphoto/nDbKGh...      False   \n",
       "4  https://s3-media1.fl.yelpcdn.com/bphoto/rxUZMz...      False   \n",
       "\n",
       "                                                 url  review_count  \\\n",
       "0  https://www.yelp.com/biz/taquitos-west-ave-san...           726   \n",
       "1  https://www.yelp.com/biz/tlahco-mexican-kitche...           725   \n",
       "2  https://www.yelp.com/biz/petes-tako-house-san-...          1288   \n",
       "3  https://www.yelp.com/biz/tacos-and-chelas-mexi...           410   \n",
       "4  https://www.yelp.com/biz/san-taco-san-antonio?...            22   \n",
       "\n",
       "                                          categories  rating  \\\n",
       "0         [{'alias': 'mexican', 'title': 'Mexican'}]     4.5   \n",
       "1         [{'alias': 'mexican', 'title': 'Mexican'}]     4.5   \n",
       "2  [{'alias': 'breakfast_brunch', 'title': 'Break...     4.5   \n",
       "3  [{'alias': 'mexican', 'title': 'Mexican'}, {'a...     4.0   \n",
       "4         [{'alias': 'mexican', 'title': 'Mexican'}]     4.5   \n",
       "\n",
       "                                         coordinates        transactions  \\\n",
       "0     {'latitude': 29.48637, 'longitude': -98.52573}          [delivery]   \n",
       "1  {'latitude': 29.5006724654481, 'longitude': -9...  [pickup, delivery]   \n",
       "2  {'latitude': 29.4328575134277, 'longitude': -9...  [pickup, delivery]   \n",
       "3   {'latitude': 29.435665, 'longitude': -98.686426}  [pickup, delivery]   \n",
       "4    {'latitude': 29.44262, 'longitude': -98.504275}                  []   \n",
       "\n",
       "  price                                           location         phone  \\\n",
       "0     $  {'address1': '2818 West Ave', 'address2': None...  +12105259888   \n",
       "1    $$  {'address1': '6702 San Pedro Ave', 'address2':...  +12104550135   \n",
       "2     $  {'address1': '502 Brooklyn Ave', 'address2': '...  +12102242911   \n",
       "3    $$  {'address1': '9902 Potranco Rd', 'address2': N...  +12103849145   \n",
       "4   NaN  {'address1': '114 Fredericksburg Rd', 'address...  +12103143099   \n",
       "\n",
       "    display_phone      distance  \n",
       "0  (210) 525-9888   1118.116301  \n",
       "1  (210) 455-0135   2931.033269  \n",
       "2  (210) 224-2911   6094.469626  \n",
       "3  (210) 384-9145  17101.082307  \n",
       "4  (210) 314-3099   4294.718174  "
      ]
     },
     "metadata": {},
     "output_type": "display_data"
    },
    {
     "data": {
      "text/html": [
       "<div>\n",
       "<style scoped>\n",
       "    .dataframe tbody tr th:only-of-type {\n",
       "        vertical-align: middle;\n",
       "    }\n",
       "\n",
       "    .dataframe tbody tr th {\n",
       "        vertical-align: top;\n",
       "    }\n",
       "\n",
       "    .dataframe thead th {\n",
       "        text-align: right;\n",
       "    }\n",
       "</style>\n",
       "<table border=\"1\" class=\"dataframe\">\n",
       "  <thead>\n",
       "    <tr style=\"text-align: right;\">\n",
       "      <th></th>\n",
       "      <th>id</th>\n",
       "      <th>alias</th>\n",
       "      <th>name</th>\n",
       "      <th>image_url</th>\n",
       "      <th>is_closed</th>\n",
       "      <th>url</th>\n",
       "      <th>review_count</th>\n",
       "      <th>categories</th>\n",
       "      <th>rating</th>\n",
       "      <th>coordinates</th>\n",
       "      <th>transactions</th>\n",
       "      <th>price</th>\n",
       "      <th>location</th>\n",
       "      <th>phone</th>\n",
       "      <th>display_phone</th>\n",
       "      <th>distance</th>\n",
       "    </tr>\n",
       "  </thead>\n",
       "  <tbody>\n",
       "    <tr>\n",
       "      <th>995</th>\n",
       "      <td>lq704t40dIE7Zf-3gEsNlQ</td>\n",
       "      <td>tacon-madre-new-braunfels</td>\n",
       "      <td>Tacon madre</td>\n",
       "      <td>https://s3-media4.fl.yelpcdn.com/bphoto/UFjVtW...</td>\n",
       "      <td>False</td>\n",
       "      <td>https://www.yelp.com/biz/tacon-madre-new-braun...</td>\n",
       "      <td>2</td>\n",
       "      <td>[{'alias': 'foodtrucks', 'title': 'Food Trucks...</td>\n",
       "      <td>4.5</td>\n",
       "      <td>{'latitude': 29.7025, 'longitude': -98.09702}</td>\n",
       "      <td>[]</td>\n",
       "      <td>NaN</td>\n",
       "      <td>{'address1': '201 Loop 337', 'address2': None,...</td>\n",
       "      <td>+17012609947</td>\n",
       "      <td>(701) 260-9947</td>\n",
       "      <td>47586.868015</td>\n",
       "    </tr>\n",
       "    <tr>\n",
       "      <th>996</th>\n",
       "      <td>DFD2goCw5yyeiJy8jKlwAA</td>\n",
       "      <td>miguels-country-kitchen-hondo</td>\n",
       "      <td>Miguel's Country Kitchen</td>\n",
       "      <td>https://s3-media3.fl.yelpcdn.com/bphoto/HZx9Aq...</td>\n",
       "      <td>False</td>\n",
       "      <td>https://www.yelp.com/biz/miguels-country-kitch...</td>\n",
       "      <td>9</td>\n",
       "      <td>[{'alias': 'mexican', 'title': 'Mexican'}]</td>\n",
       "      <td>2.5</td>\n",
       "      <td>{'latitude': 29.347575, 'longitude': -99.1294}</td>\n",
       "      <td>[]</td>\n",
       "      <td>$</td>\n",
       "      <td>{'address1': '209 US Highway 90 E', 'address2'...</td>\n",
       "      <td>+18307418641</td>\n",
       "      <td>(830) 741-8641</td>\n",
       "      <td>61093.799478</td>\n",
       "    </tr>\n",
       "    <tr>\n",
       "      <th>997</th>\n",
       "      <td>j_wNJeXW6y3Zk7Tl2hv6zw</td>\n",
       "      <td>la-joya-mexican-restaurant-san-antonio</td>\n",
       "      <td>La Joya Mexican Restaurant</td>\n",
       "      <td>https://s3-media2.fl.yelpcdn.com/bphoto/MF-Sjt...</td>\n",
       "      <td>False</td>\n",
       "      <td>https://www.yelp.com/biz/la-joya-mexican-resta...</td>\n",
       "      <td>4</td>\n",
       "      <td>[{'alias': 'mexican', 'title': 'Mexican'}]</td>\n",
       "      <td>5.0</td>\n",
       "      <td>{'latitude': 29.4246254, 'longitude': -98.5547...</td>\n",
       "      <td>[]</td>\n",
       "      <td>NaN</td>\n",
       "      <td>{'address1': '510 S General McMullen Dr', 'add...</td>\n",
       "      <td>+12104365188</td>\n",
       "      <td>(210) 436-5188</td>\n",
       "      <td>7103.042383</td>\n",
       "    </tr>\n",
       "    <tr>\n",
       "      <th>998</th>\n",
       "      <td>VUMbigFrt_NwQpaedFZQMw</td>\n",
       "      <td>karolinas-mexican-food-san-antonio</td>\n",
       "      <td>Karolina's Mexican Food</td>\n",
       "      <td>https://s3-media2.fl.yelpcdn.com/bphoto/KP99Z4...</td>\n",
       "      <td>False</td>\n",
       "      <td>https://www.yelp.com/biz/karolinas-mexican-foo...</td>\n",
       "      <td>13</td>\n",
       "      <td>[{'alias': 'mexican', 'title': 'Mexican'}]</td>\n",
       "      <td>3.5</td>\n",
       "      <td>{'latitude': 29.3032457440659, 'longitude': -9...</td>\n",
       "      <td>[delivery]</td>\n",
       "      <td>NaN</td>\n",
       "      <td>{'address1': '11510 US 281', 'address2': '', '...</td>\n",
       "      <td>+12109735910</td>\n",
       "      <td>(210) 973-5910</td>\n",
       "      <td>20087.463958</td>\n",
       "    </tr>\n",
       "    <tr>\n",
       "      <th>999</th>\n",
       "      <td>Wa7d0oUPh7pRd8PO9qx1vg</td>\n",
       "      <td>santi-s-san-marcos</td>\n",
       "      <td>Santi’s</td>\n",
       "      <td>https://s3-media2.fl.yelpcdn.com/bphoto/7-CABt...</td>\n",
       "      <td>False</td>\n",
       "      <td>https://www.yelp.com/biz/santi-s-san-marcos?ad...</td>\n",
       "      <td>1</td>\n",
       "      <td>[{'alias': 'tacos', 'title': 'Tacos'}, {'alias...</td>\n",
       "      <td>5.0</td>\n",
       "      <td>{'latitude': 29.88169, 'longitude': -97.94149}</td>\n",
       "      <td>[]</td>\n",
       "      <td>NaN</td>\n",
       "      <td>{'address1': '126 S Guadalupe St', 'address2':...</td>\n",
       "      <td></td>\n",
       "      <td></td>\n",
       "      <td>71349.575881</td>\n",
       "    </tr>\n",
       "  </tbody>\n",
       "</table>\n",
       "</div>"
      ],
      "text/plain": [
       "                         id                                   alias  \\\n",
       "995  lq704t40dIE7Zf-3gEsNlQ               tacon-madre-new-braunfels   \n",
       "996  DFD2goCw5yyeiJy8jKlwAA           miguels-country-kitchen-hondo   \n",
       "997  j_wNJeXW6y3Zk7Tl2hv6zw  la-joya-mexican-restaurant-san-antonio   \n",
       "998  VUMbigFrt_NwQpaedFZQMw      karolinas-mexican-food-san-antonio   \n",
       "999  Wa7d0oUPh7pRd8PO9qx1vg                      santi-s-san-marcos   \n",
       "\n",
       "                           name  \\\n",
       "995                 Tacon madre   \n",
       "996    Miguel's Country Kitchen   \n",
       "997  La Joya Mexican Restaurant   \n",
       "998     Karolina's Mexican Food   \n",
       "999                     Santi’s   \n",
       "\n",
       "                                             image_url  is_closed  \\\n",
       "995  https://s3-media4.fl.yelpcdn.com/bphoto/UFjVtW...      False   \n",
       "996  https://s3-media3.fl.yelpcdn.com/bphoto/HZx9Aq...      False   \n",
       "997  https://s3-media2.fl.yelpcdn.com/bphoto/MF-Sjt...      False   \n",
       "998  https://s3-media2.fl.yelpcdn.com/bphoto/KP99Z4...      False   \n",
       "999  https://s3-media2.fl.yelpcdn.com/bphoto/7-CABt...      False   \n",
       "\n",
       "                                                   url  review_count  \\\n",
       "995  https://www.yelp.com/biz/tacon-madre-new-braun...             2   \n",
       "996  https://www.yelp.com/biz/miguels-country-kitch...             9   \n",
       "997  https://www.yelp.com/biz/la-joya-mexican-resta...             4   \n",
       "998  https://www.yelp.com/biz/karolinas-mexican-foo...            13   \n",
       "999  https://www.yelp.com/biz/santi-s-san-marcos?ad...             1   \n",
       "\n",
       "                                            categories  rating  \\\n",
       "995  [{'alias': 'foodtrucks', 'title': 'Food Trucks...     4.5   \n",
       "996         [{'alias': 'mexican', 'title': 'Mexican'}]     2.5   \n",
       "997         [{'alias': 'mexican', 'title': 'Mexican'}]     5.0   \n",
       "998         [{'alias': 'mexican', 'title': 'Mexican'}]     3.5   \n",
       "999  [{'alias': 'tacos', 'title': 'Tacos'}, {'alias...     5.0   \n",
       "\n",
       "                                           coordinates transactions price  \\\n",
       "995      {'latitude': 29.7025, 'longitude': -98.09702}           []   NaN   \n",
       "996     {'latitude': 29.347575, 'longitude': -99.1294}           []     $   \n",
       "997  {'latitude': 29.4246254, 'longitude': -98.5547...           []   NaN   \n",
       "998  {'latitude': 29.3032457440659, 'longitude': -9...   [delivery]   NaN   \n",
       "999     {'latitude': 29.88169, 'longitude': -97.94149}           []   NaN   \n",
       "\n",
       "                                              location         phone  \\\n",
       "995  {'address1': '201 Loop 337', 'address2': None,...  +17012609947   \n",
       "996  {'address1': '209 US Highway 90 E', 'address2'...  +18307418641   \n",
       "997  {'address1': '510 S General McMullen Dr', 'add...  +12104365188   \n",
       "998  {'address1': '11510 US 281', 'address2': '', '...  +12109735910   \n",
       "999  {'address1': '126 S Guadalupe St', 'address2':...                 \n",
       "\n",
       "      display_phone      distance  \n",
       "995  (701) 260-9947  47586.868015  \n",
       "996  (830) 741-8641  61093.799478  \n",
       "997  (210) 436-5188   7103.042383  \n",
       "998  (210) 973-5910  20087.463958  \n",
       "999                  71349.575881  "
      ]
     },
     "metadata": {},
     "output_type": "display_data"
    }
   ],
   "source": [
    "# load final results\n",
    "final_df = pd.read_json(JSON_FILE)\n",
    "display(final_df.head(), final_df.tail())"
   ]
  },
  {
   "cell_type": "code",
   "execution_count": 76,
   "id": "667dadc1",
   "metadata": {},
   "outputs": [
    {
     "data": {
      "text/plain": [
       "0"
      ]
     },
     "execution_count": 76,
     "metadata": {},
     "output_type": "execute_result"
    }
   ],
   "source": [
    "# check for duplicate ID's \n",
    "final_df.duplicated(subset='id').sum()"
   ]
  },
  {
   "cell_type": "code",
   "execution_count": 77,
   "id": "e5b4b5c8",
   "metadata": {},
   "outputs": [],
   "source": [
    "# save the final results to a compressed csv\n",
    "final_df.to_csv('Data/final_results_SA_Taco.csv.gz', compression='gzip',index=False)"
   ]
  }
 ],
 "metadata": {
  "kernelspec": {
   "display_name": "Python (dojo-env)",
   "language": "python",
   "name": "dojo-env"
  },
  "language_info": {
   "codemirror_mode": {
    "name": "ipython",
    "version": 3
   },
   "file_extension": ".py",
   "mimetype": "text/x-python",
   "name": "python",
   "nbconvert_exporter": "python",
   "pygments_lexer": "ipython3",
   "version": "3.9.15"
  },
  "toc": {
   "base_numbering": 1,
   "nav_menu": {},
   "number_sections": false,
   "sideBar": true,
   "skip_h1_title": false,
   "title_cell": "Table of Contents",
   "title_sidebar": "Contents",
   "toc_cell": false,
   "toc_position": {},
   "toc_section_display": true,
   "toc_window_display": false
  }
 },
 "nbformat": 4,
 "nbformat_minor": 5
}
