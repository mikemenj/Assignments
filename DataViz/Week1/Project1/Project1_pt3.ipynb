{
 "cells": [
  {
   "cell_type": "markdown",
   "id": "ef0f1be4",
   "metadata": {},
   "source": [
    "(Core) Project 1: Local Explanations\n",
    "\n",
    "Part 3 - Local Explanations\n",
    "\n",
    "Add a new \"Local Explanations\" header at the bottom and continue your work:\n",
    "\n",
    "- Select at least 2 example rows/outlets based on the insights gained from your previous core assignments this week.\n",
    "\n",
    "- Explain why you selected the examples that you did.\n",
    "If you're having trouble thinking of which type of examples to select, try selecting a store that had low sales ( one of the lowest values for your target) and one with high sales (the highest values for your target).\n",
    "\n",
    "- For each example, produce :\n",
    "    - a Lime tabular explanation\n",
    "        - Interpret what features most heavily influenced the predictions, according to LIME.\n",
    "        - Save your figure as a .png file inside your repository (you will need this for the final piece of this assignment Update Your README). Note: you will need to take a screenshot to save the lime explanation.\n",
    "    - an Individual Force Plot\n",
    "        - Interpret what features most heavily influenced the predictions, according to SHAP.\n",
    "        - Save your figure as a .png file inside your repository (you will need this for the final piece of this assignment - Update Your README). Note: you will need to take a screenshot to save the individual force plot.\n",
    "\n",
    "\n",
    "Update your README\n",
    "\n",
    "- Add your explanation for why you selected the individual examples that you visualized.\n",
    "- For each example (need at least 2 examples)\n",
    "        - A Lime tabular explanation\n",
    "            - Your corresponding interpretation\n",
    "        - A sharp force plot\n",
    "            - Your corresponding interpretation.\n",
    "Submit the link to your project repository as your final submission for this assignment."
   ]
  }
 ],
 "metadata": {
  "kernelspec": {
   "display_name": "Python (dojo-env)",
   "language": "python",
   "name": "dojo-env"
  },
  "language_info": {
   "codemirror_mode": {
    "name": "ipython",
    "version": 3
   },
   "file_extension": ".py",
   "mimetype": "text/x-python",
   "name": "python",
   "nbconvert_exporter": "python",
   "pygments_lexer": "ipython3",
   "version": "3.9.15"
  },
  "toc": {
   "base_numbering": 1,
   "nav_menu": {},
   "number_sections": false,
   "sideBar": true,
   "skip_h1_title": false,
   "title_cell": "Table of Contents",
   "title_sidebar": "Contents",
   "toc_cell": false,
   "toc_position": {},
   "toc_section_display": true,
   "toc_window_display": false
  }
 },
 "nbformat": 4,
 "nbformat_minor": 5
}
