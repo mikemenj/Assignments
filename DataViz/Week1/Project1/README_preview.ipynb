{
 "cells": [
  {
   "cell_type": "markdown",
   "id": "ef0253df",
   "metadata": {},
   "source": [
    "![](linreg_top3.png)\n",
    "According to the LinearRegression model, it Looks like the top 3 features would be: \n",
    "- Supermarket Type1\n",
    "- Supermarket Type 3\n",
    "- and Outlet 027\n",
    "\n",
    "This shows that the location of the outlet the items are in and the type of market heavily influences whether or not the item will sell."
   ]
  },
  {
   "cell_type": "markdown",
   "id": "11a532e0",
   "metadata": {},
   "source": [
    "![](rf_top5.png)\n",
    "According to the RandomForestRegression model, it Looks like the top  features would be:\n",
    "- Item MRP\n",
    "- Item Visibility\n",
    "- Supermarket Type1\n",
    "- Outlet 027\n",
    "- Item Weight\n",
    "\n",
    "This shows that the price, visibility, item weight, supermarket type and outlet heavily influences whether or not the item will sell.\n",
    "\n",
    "The RandomForest Model agrees with the LinearRegression model that Type1 Supermarket and Outlet 027 seem to be a big influence."
   ]
  },
  {
   "cell_type": "markdown",
   "id": "e711ec49",
   "metadata": {},
   "source": [
    "![](rf_shap_bar.png)\n",
    "![](rf_top5.png)\n",
    "\n",
    "\n",
    "When comparing the Feature Importance versus the Shap Summary plots, 4 of the top 5 Features are the same in both but are ranked differently. Item_MRP is the most important in both."
   ]
  }
 ],
 "metadata": {
  "kernelspec": {
   "display_name": "Python (dojo-env)",
   "language": "python",
   "name": "dojo-env"
  },
  "language_info": {
   "codemirror_mode": {
    "name": "ipython",
    "version": 3
   },
   "file_extension": ".py",
   "mimetype": "text/x-python",
   "name": "python",
   "nbconvert_exporter": "python",
   "pygments_lexer": "ipython3",
   "version": "3.9.15"
  },
  "toc": {
   "base_numbering": 1,
   "nav_menu": {},
   "number_sections": false,
   "sideBar": true,
   "skip_h1_title": false,
   "title_cell": "Table of Contents",
   "title_sidebar": "Contents",
   "toc_cell": false,
   "toc_position": {},
   "toc_section_display": true,
   "toc_window_display": false
  }
 },
 "nbformat": 4,
 "nbformat_minor": 5
}
